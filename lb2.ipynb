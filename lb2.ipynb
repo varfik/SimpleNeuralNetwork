{
  "nbformat": 4,
  "nbformat_minor": 0,
  "metadata": {
    "colab": {
      "provenance": [],
      "include_colab_link": true
    },
    "kernelspec": {
      "name": "python3",
      "display_name": "Python 3"
    },
    "language_info": {
      "name": "python"
    }
  },
  "cells": [
    {
      "cell_type": "markdown",
      "metadata": {
        "id": "view-in-github",
        "colab_type": "text"
      },
      "source": [
        "<a href=\"https://colab.research.google.com/github/varfik/SimpleNeuralNetwork/blob/main/lb2.ipynb\" target=\"_parent\"><img src=\"https://colab.research.google.com/assets/colab-badge.svg\" alt=\"Open In Colab\"/></a>"
      ]
    },
    {
      "cell_type": "markdown",
      "source": [
        "### Создание нейронной сети из трёх нейронов\n",
        "В первом слое активационная функция a(x) = x. В последнем - сигмоида."
      ],
      "metadata": {
        "id": "frsfF2yuXt_I"
      }
    },
    {
      "cell_type": "markdown",
      "source": [],
      "metadata": {
        "id": "jJXyyFXkDHVj"
      }
    },
    {
      "cell_type": "code",
      "source": [
        "import numpy as np\n",
        "\n",
        "np.random.seed(42)\n",
        "# Инициализация весов\n",
        "w1 = np.random.randn()  # Вес для x1 на первом нейроне\n",
        "w2 = np.random.randn()  # Вес для x2 на втором нейроне\n",
        "w3 = np.random.randn()  # Вес для f1 на выходном нейроне\n",
        "w4 = np.random.randn()  # Вес для f2 на выходном нейроне\n",
        "\n",
        "# Сигмоида (активайионная функция для последнего нейрона)\n",
        "def sigmoid(z):\n",
        "    return 1 / (1 + np.exp(-z))\n",
        "\n",
        "# Производная сигмоиды\n",
        "def sigmoid_derivative(z):\n",
        "    new_z = sigmoid(z)\n",
        "    return new_z * (1 - new_z)\n",
        "\n",
        "# Генерация набора данных\n",
        "def generate_data(N = 1000):\n",
        "  X = np.random.uniform(-10, 10, (N, 2)) # Создание двумерной матрицы со значениями [-10; 10], координаты точек\n",
        "  y = (X[:, 1] > -X[:, 0]).astype(int) # Получение меток 1 или 0 (x > -y)\n",
        "  return X, y\n",
        "\n",
        "# Функция расчета кросс-энтропийных потерь\n",
        "def loss_calculation(y, y_pred):\n",
        "  # Расхождение между вероятностными распределениями\n",
        "  epsilon = 1e-10\n",
        "  return - (y * np.log(y_pred + epsilon) + (1 - y) * np.log(1 - y_pred + epsilon))\n",
        "\n",
        "def train(X, y, epochs = 1000, learning_rate = 0.001):\n",
        "  global w1, w2, w3, w4\n",
        "  for epoch in range(epochs):\n",
        "    loss = 0 # Общая ошибка для эпохи\n",
        "    for i in range(len(X)):\n",
        "      # Прямой обход\n",
        "      f1 = X[i, 0] * w1 # Выход первого нейрона первого слоя\n",
        "      f2 = X[i, 1] * w2 # Выход второго нейрона первого слоя\n",
        "      y_pred = sigmoid(f1 * w3 + w4 * f2) # Выход нейрона после второго слоя\n",
        "\n",
        "      # Вычисление потерь\n",
        "      loss += loss_calculation(y[i], y_pred)\n",
        "\n",
        "      # Градиентный спуск (обратное распространение)\n",
        "      loss_deriv = 2 * (y_pred - y[i])\n",
        "      y_deriv = sigmoid_derivative(f1 * w3 + w4 * f2)\n",
        "      w3_deriv = f1\n",
        "      w4_deriv = f2\n",
        "      w1_deriv = X[i, 0] * w3\n",
        "      w2_deriv =  X[i, 1] * w4\n",
        "\n",
        "      # Нахождение градиентов весов\n",
        "      grad_w3 = loss_deriv * y_deriv * w3_deriv\n",
        "      grad_w4 = loss_deriv * y_deriv * w4_deriv\n",
        "      grad_w1 = loss_deriv * y_deriv * w1_deriv\n",
        "      grad_w2 = loss_deriv * y_deriv * w2_deriv\n",
        "\n",
        "      # Обновление весов\n",
        "      w1 -= learning_rate * grad_w1\n",
        "      w2 -= learning_rate * grad_w2\n",
        "      w3 -= learning_rate * grad_w3\n",
        "      w4 -= learning_rate * grad_w4\n",
        "    if epoch % 100 == 0:\n",
        "      print(f\"Epoch {epoch}, Loss: {loss / len(X)}\")\n",
        "\n",
        "# Генерация набора данных\n",
        "X, y = generate_data(10000)\n",
        "\n",
        "# Генерация валидационной выборки (10% от набора данных)\n",
        "X_val, y_val = generate_data()\n",
        "\n",
        "train(X, y)"
      ],
      "metadata": {
        "id": "tvi-TdllXSlS",
        "colab": {
          "base_uri": "https://localhost:8080/"
        },
        "outputId": "227c0914-b694-4164-d5ce-66e49c4e6367"
      },
      "execution_count": 5,
      "outputs": [
        {
          "output_type": "stream",
          "name": "stdout",
          "text": [
            "Epoch 0, Loss: 0.15349968731831118\n",
            "Epoch 100, Loss: 0.013607829277341185\n",
            "Epoch 200, Loss: 0.00987962428301291\n",
            "Epoch 300, Loss: 0.008212888940365311\n",
            "Epoch 400, Loss: 0.007208354209214656\n",
            "Epoch 500, Loss: 0.006515489226203138\n",
            "Epoch 600, Loss: 0.005999886998906908\n",
            "Epoch 700, Loss: 0.005597238537398558\n",
            "Epoch 800, Loss: 0.0052721583908920035\n",
            "Epoch 900, Loss: 0.005003214397629784\n"
          ]
        }
      ]
    },
    {
      "cell_type": "markdown",
      "source": [
        "### Генерация точек для обучающей выборки\n",
        "от 1000 до 10000"
      ],
      "metadata": {
        "id": "te8mnQ4sX-9v"
      }
    },
    {
      "cell_type": "code",
      "source": [],
      "metadata": {
        "id": "2l7CG6DAYrUf"
      },
      "execution_count": null,
      "outputs": []
    },
    {
      "cell_type": "markdown",
      "source": [
        "### Обучение сети на сгенерированной выборке"
      ],
      "metadata": {
        "id": "sMermo5mYfRM"
      }
    },
    {
      "cell_type": "code",
      "source": [],
      "metadata": {
        "id": "ctQZCawYZfLj"
      },
      "execution_count": null,
      "outputs": []
    },
    {
      "cell_type": "markdown",
      "source": [
        "### Генерация 100 точек для валидирующей выборки"
      ],
      "metadata": {
        "id": "cRdJvQZQZmM5"
      }
    },
    {
      "cell_type": "code",
      "source": [],
      "metadata": {
        "id": "qOVQ9vn4Zwai"
      },
      "execution_count": null,
      "outputs": []
    },
    {
      "cell_type": "markdown",
      "source": [
        "### Нахождение доли верно определённых точек"
      ],
      "metadata": {
        "id": "KLLrEYWLZxDy"
      }
    }
  ]
}